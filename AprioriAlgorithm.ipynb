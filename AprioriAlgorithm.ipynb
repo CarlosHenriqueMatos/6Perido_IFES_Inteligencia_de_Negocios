{
  "nbformat": 4,
  "nbformat_minor": 0,
  "metadata": {
    "colab": {
      "provenance": [],
      "collapsed_sections": []
    },
    "kernelspec": {
      "name": "python3",
      "display_name": "Python 3"
    },
    "language_info": {
      "name": "python"
    }
  },
  "cells": [
    {
      "cell_type": "markdown",
      "source": [
        "Fonte: https://www.youtube.com/watch?v=WGlMlS_Yydk&t=121s\n",
        "\n",
        "####I = {Cebola, Burguer, Batata, Leite, Cerveja}\n",
        "####{Cebola, Batata} => {Burguer}\n",
        "\n",
        "###supp(x)=((Number of transactions in which X appears)/Total number of transactions)\n",
        "\n",
        "###conf(X => Y) = supp(X U Y)/supp(X)"
      ],
      "metadata": {
        "id": "p9foWuVkdOkI"
      }
    },
    {
      "cell_type": "code",
      "source": [
        "import pandas as pd\n",
        "\n",
        "df = pd.read_excel(r'/content/drive/MyDrive/Ifes/2022_2/Inteligência de Negócios - Kelly/Entrega 2/baseDados.xlsx')\n",
        "print(df)"
      ],
      "metadata": {
        "colab": {
          "base_uri": "https://localhost:8080/"
        },
        "id": "TG6q_CCydNf6",
        "outputId": "328f870a-38cd-4ce4-dadd-19aadf4912fa"
      },
      "execution_count": 42,
      "outputs": [
        {
          "output_type": "stream",
          "name": "stdout",
          "text": [
            "   Leite  Pao  Acucar  Café  Manteiga  Mamao  Banana  Maca\n",
            "0      1    1       1     1         1      0       0     0\n",
            "1      0    0       0     0         0      1       1     1\n",
            "2      1    1       0     0         0      0       0     0\n",
            "3      1    0       1     0         0      1       1     0\n",
            "4      1    1       1     0         0      0       1     1\n",
            "5      1    0       0     0         0      0       0     0\n",
            "6      1    1       1     1         1      1       1     0\n",
            "7      0    0       1     1         1      1       1     1\n",
            "8      0    1       1     1         1      1       1     1\n"
          ]
        }
      ]
    },
    {
      "cell_type": "code",
      "source": [
        "#Neste caso podemos ver que temos 4 maçãs que estão representadas pelo valor 1\n",
        "df[['Maca']].value_counts()"
      ],
      "metadata": {
        "colab": {
          "base_uri": "https://localhost:8080/"
        },
        "id": "H8fjzi4KguLr",
        "outputId": "59cdc291-4c94-4663-b202-b486fcdecb7d"
      },
      "execution_count": 25,
      "outputs": [
        {
          "output_type": "execute_result",
          "data": {
            "text/plain": [
              "Maca\n",
              "0       5\n",
              "1       4\n",
              "dtype: int64"
            ]
          },
          "metadata": {},
          "execution_count": 25
        }
      ]
    },
    {
      "cell_type": "code",
      "source": [
        "#Neste caso temos 5 pães que estão representados pelo valor 1\n",
        "df[['Pao']].value_counts()"
      ],
      "metadata": {
        "colab": {
          "base_uri": "https://localhost:8080/"
        },
        "id": "IQpzmbFIg4Rh",
        "outputId": "e4fdb62d-6f1a-42ce-e6de-9c2eddce11d5"
      },
      "execution_count": 26,
      "outputs": [
        {
          "output_type": "execute_result",
          "data": {
            "text/plain": [
              "Pao\n",
              "1      5\n",
              "0      4\n",
              "dtype: int64"
            ]
          },
          "metadata": {},
          "execution_count": 26
        }
      ]
    },
    {
      "cell_type": "code",
      "source": [
        "df[['Acucar']].value_counts()"
      ],
      "metadata": {
        "colab": {
          "base_uri": "https://localhost:8080/"
        },
        "id": "jN-BMR7wi3da",
        "outputId": "bcf1952b-0fc4-4ba9-8382-444b0da41956"
      },
      "execution_count": 27,
      "outputs": [
        {
          "output_type": "execute_result",
          "data": {
            "text/plain": [
              "Acucar\n",
              "1         6\n",
              "0         3\n",
              "dtype: int64"
            ]
          },
          "metadata": {},
          "execution_count": 27
        }
      ]
    },
    {
      "cell_type": "code",
      "source": [
        "#Agora para verificar em quantos casos tivemos os 3 ao mesmo tempo\n",
        "df[['Pao','Acucar','Maca']].value_counts()\n",
        "#como podemos ver em nenum caso tevemos os 3 ao mesmo tempo"
      ],
      "metadata": {
        "colab": {
          "base_uri": "https://localhost:8080/"
        },
        "id": "cG-70fN9i794",
        "outputId": "887f5702-09f8-4780-9743-bc3924bf4b29"
      },
      "execution_count": 43,
      "outputs": [
        {
          "output_type": "execute_result",
          "data": {
            "text/plain": [
              "Pao  Acucar  Maca\n",
              "1    1       0       2\n",
              "             1       2\n",
              "0    0       0       1\n",
              "             1       1\n",
              "     1       0       1\n",
              "             1       1\n",
              "1    0       0       1\n",
              "dtype: int64"
            ]
          },
          "metadata": {},
          "execution_count": 43
        }
      ]
    },
    {
      "cell_type": "code",
      "source": [
        "#Este é um exemplo em que temos os 3 acontecendo ao mesmo tempo e a sua frenquencia \n",
        "df[['Leite','Pao','Acucar']].value_counts()\n",
        "####Como podemos notar a ordem neste caso pouco importa, do contrario do augoritmo FP-Growth"
      ],
      "metadata": {
        "colab": {
          "base_uri": "https://localhost:8080/"
        },
        "id": "rrRgs1ObjNUB",
        "outputId": "d5bc30fe-2f82-41fd-cee6-7b98009beeb8"
      },
      "execution_count": 32,
      "outputs": [
        {
          "output_type": "execute_result",
          "data": {
            "text/plain": [
              "Leite  Pao  Acucar\n",
              "1      1    1         3\n",
              "0      0    0         1\n",
              "            1         1\n",
              "       1    1         1\n",
              "1      0    0         1\n",
              "            1         1\n",
              "       1    0         1\n",
              "dtype: int64"
            ]
          },
          "metadata": {},
          "execution_count": 32
        }
      ]
    },
    {
      "cell_type": "code",
      "source": [
        "df[['Café','Manteiga','Mamao']].value_counts()"
      ],
      "metadata": {
        "colab": {
          "base_uri": "https://localhost:8080/"
        },
        "id": "t7pFxv-8kQJJ",
        "outputId": "51edf7ec-f497-45e7-f557-1a8bb7a119f4"
      },
      "execution_count": 33,
      "outputs": [
        {
          "output_type": "execute_result",
          "data": {
            "text/plain": [
              "Café  Manteiga  Mamao\n",
              "0     0         0        3\n",
              "1     1         1        3\n",
              "0     0         1        2\n",
              "1     1         0        1\n",
              "dtype: int64"
            ]
          },
          "metadata": {},
          "execution_count": 33
        }
      ]
    },
    {
      "cell_type": "code",
      "source": [],
      "metadata": {
        "id": "DF_Mxjb2lzCq"
      },
      "execution_count": null,
      "outputs": []
    }
  ]
}