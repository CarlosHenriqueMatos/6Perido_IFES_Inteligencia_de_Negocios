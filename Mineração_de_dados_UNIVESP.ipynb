{
  "nbformat": 4,
  "nbformat_minor": 0,
  "metadata": {
    "colab": {
      "provenance": []
    },
    "kernelspec": {
      "name": "python3",
      "display_name": "Python 3"
    },
    "language_info": {
      "name": "python"
    }
  },
  "cells": [
    {
      "cell_type": "markdown",
      "source": [
        "**Mineração de Dados - Uso de regras de associação**\n",
        "\n",
        "**REGRAS**\n",
        "\n",
        "X => Y = X implica Y\n",
        "\n",
        "X: antecedente, Y consequente\n",
        "{Pão} => {Leite}\n",
        "\n",
        "{Pão ^ Café} => {Leite}\n",
        "\n",
        "{Banana} => {Maçã} != {Maçã} => {Banana}\n",
        "\n",
        "**Suporte**: Número de transações para as quais uma regra faz a predição correta (utilidade).\n",
        "\n",
        "**Problema:** Encontrar todas as regras que satisfazem um valor minimo predefinido de suporte **(minsup)** e um valor minimo predefinido de confiança (minconf).\n",
        "\n",
        "**Complexidade:** Numero de regras cresce exponencialmente com o numero de itens da base\n",
        "\n",
        "\n",
        "\n",
        "Fonte: https://www.youtube.com/watch?v=OhR4wZV0DPA"
      ],
      "metadata": {
        "id": "0Ir_OQWiMGKJ"
      }
    },
    {
      "cell_type": "code",
      "execution_count": null,
      "metadata": {
        "id": "BU8iEIRWLMFs"
      },
      "outputs": [],
      "source": []
    }
  ]
}