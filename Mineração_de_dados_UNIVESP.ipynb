{
  "nbformat": 4,
  "nbformat_minor": 0,
  "metadata": {
    "colab": {
      "provenance": []
    },
    "kernelspec": {
      "name": "python3",
      "display_name": "Python 3"
    },
    "language_info": {
      "name": "python"
    }
  },
  "cells": [
    {
      "cell_type": "markdown",
      "source": [
        "**Mineração de Dados - Uso de regras de associação**\n",
        "\n",
        "Fonte: https://www.youtube.com/watch?v=OhR4wZV0DPA\n",
        "\n",
        "**REGRAS**\n",
        "\n",
        "X => Y = X implica Y\n",
        "\n",
        "X: antecedente, Y consequente\n",
        "{Pão} => {Leite}\n",
        "\n",
        "{Pão ^ Café} => {Leite}\n",
        "\n",
        "{Banana} => {Maçã} != {Maçã} => {Banana}\n",
        "\n",
        "**Suporte**: Número de transações para as quais uma regra faz a predição correta (utilidade).\n",
        "\n",
        "**Problema:** Encontrar todas as regras que satisfazem um valor minimo predefinido de suporte **(minsup)** e um valor minimo predefinido de confiança (minconf).\n",
        "\n",
        "**Complexidade:** Numero de regras cresce exponencialmente com o numero de itens da base\n",
        "\n"
      ],
      "metadata": {
        "id": "0Ir_OQWiMGKJ"
      }
    },
    {
      "cell_type": "markdown",
      "source": [
        "Pré-Processamento"
      ],
      "metadata": {
        "id": "_qCC3qF6Xj6H"
      }
    },
    {
      "cell_type": "code",
      "source": [
        "itens = {'1': ('Leite', 'Pão', 'Açucar', 'Café', 'Manteiga'), '2': ('Mamão', 'Banana', 'Maçã'), '3':('Leite', 'Pão'),'4':('Leite','Pão','Manteiga','Banana')}\n",
        "itens"
      ],
      "metadata": {
        "colab": {
          "base_uri": "https://localhost:8080/"
        },
        "id": "L71Y9h3TXdLc",
        "outputId": "072b26c2-ec5c-4e57-da4a-9e4631c24587"
      },
      "execution_count": null,
      "outputs": [
        {
          "output_type": "execute_result",
          "data": {
            "text/plain": [
              "{'1': ('Leite', 'Pão', 'Açucar', 'Café', 'Manteiga'),\n",
              " '2': ('Mamão', 'Banana', 'Maçã'),\n",
              " '3': ('Leite', 'Pão'),\n",
              " '4': ('Leite', 'Pão', 'Manteiga', 'Banana')}"
            ]
          },
          "metadata": {},
          "execution_count": 5
        }
      ]
    },
    {
      "cell_type": "code",
      "execution_count": null,
      "metadata": {
        "colab": {
          "base_uri": "https://localhost:8080/"
        },
        "id": "BU8iEIRWLMFs",
        "outputId": "bfa024d1-1e1f-4c04-a757-7d48582ab176"
      },
      "outputs": [
        {
          "output_type": "stream",
          "name": "stdout",
          "text": [
            "('Leite', 'Pao', 'açucar', 'Café', 'Manteiga', 'Mamão', 'Banana', 'Maça')\n"
          ]
        },
        {
          "output_type": "execute_result",
          "data": {
            "text/plain": [
              "{'1': (1, 1, 1, 1, 1, 0, 0, 0),\n",
              " '2': (0, 0, 0, 0, 0, 1, 1, 1),\n",
              " '3': (1, 1, 0, 0, 0, 0, 0, 0),\n",
              " '4': (1, 1, 0, 0, 1, 0, 1, 0)}"
            ]
          },
          "metadata": {},
          "execution_count": 6
        }
      ],
      "source": [
        "titulos = ('Leite','Pao','açucar','Café','Manteiga','Mamão','Banana','Maçã')\n",
        "tabelas = {'1': (1,1,1,1,1,0,0,0), '2': (0,0,0,0,0,1,1,1), '3': (1,1,0,0,0,0,0,0), '4': (1,1,0,0,1,0,1,0)}\n",
        "print(titulos)\n",
        "tabelas"
      ]
    },
    {
      "cell_type": "markdown",
      "source": [
        "*Geração do conjunto de itens frequentes*\n",
        "\n",
        "Seleção dos itens que serão usados na mineração\n",
        "\n",
        "*Itens frequentes: *acima de um limite minimo peestabeleciodo de suporte\n",
        "\n",
        "Ex: itens presentes em um número minimo de transações\n",
        "\n",
        "**Processo de mineração de regras**\n",
        "\n",
        "**Avaliação**\n",
        "\n",
        "{Rádio portátil} => {Pilha}: 100%\n",
        "\n",
        "Transação com rádio portatil: 100(0,1%)\n",
        "\n",
        "Com isso podemos concluir que a associação é forte, mas a frequência é baixa.\n",
        "\n",
        "Medidas de interesse\n",
        "\n",
        "Avaliam as caracteristicas das regras\n",
        "\n",
        "Medem a relevancia das regras\n",
        "\n",
        "\n",
        "*   Suporte e confiança\n",
        "*   Lift e convicção\n",
        "*   Grau de interesse e compreensibilidade\n",
        "\n",
        "**SUPORTE E CONFIANÇA**\n",
        "\n",
        "**SUPORTE**: usado para elimininar regras pouco interessantes, assim como tambem é a significância estatística da regra\n",
        "\n",
        "**Confiança**: acurácia\n",
        "\n",
        "**Sup(X=>Y) = P(X u Y) = o(X u Y)/n**\n",
        "\n",
        "Frequencia de ocorrência da regra, onde n é o total de transações da base\n",
        "\n",
        "Contagem do suporte: o(X) = |{ti|X c ti, ti E T}|\n",
        "\n",
        "**ti:** transação i do conjunto de transação T\n",
        "\n",
        "** Confiança: **verifica a ocorrencia da parte consequente da regra\n",
        "\n",
        "**Conf(X => Y) = P(X | Y)= o(X u Y)/o(X)**\n",
        "\n"
      ],
      "metadata": {
        "id": "G6Py8qXla8vQ"
      }
    },
    {
      "cell_type": "code",
      "source": [
        "print(titulos)\n",
        "tabelas"
      ],
      "metadata": {
        "colab": {
          "base_uri": "https://localhost:8080/"
        },
        "id": "9UEQKcoIYw36",
        "outputId": "4951ae19-663a-46b7-e2ac-34e2b55f00cf"
      },
      "execution_count": null,
      "outputs": [
        {
          "output_type": "stream",
          "name": "stdout",
          "text": [
            "('Leite', 'Pao', 'açucar', 'Café', 'Manteiga', 'Mamão', 'Banana', 'Maça')\n"
          ]
        },
        {
          "output_type": "execute_result",
          "data": {
            "text/plain": [
              "{'1': (1, 1, 1, 1, 1, 0, 0, 0),\n",
              " '2': (0, 0, 0, 0, 0, 1, 1, 1),\n",
              " '3': (1, 1, 0, 0, 0, 0, 0, 0),\n",
              " '4': (1, 1, 0, 0, 1, 0, 1, 0)}"
            ]
          },
          "metadata": {},
          "execution_count": 7
        }
      ]
    },
    {
      "cell_type": "markdown",
      "source": [
        "Fonte: https://colab.research.google.com/drive/1-pZmyE9465XadH-MYZdanittXdPff0xc#scrollTo=ogFetFpEMYrc\n",
        "\n",
        "Podemos usar a confiança que é muito bem explicada no video acima para sabermos com base na tabela que tambem esta la que diz que caso um evento ocorro então outro tambem ocorrera, neste caso analizaremos se quando um evento acontecer se então realmente o outro aconteceu, contaremos todos exemplos em que isso aconteceu e teremos a porcentagem de confiança.\n",
        "\n",
        "com base na tabela abaixo por exemplo\n",
        "\n",
        "('Leite', 'Pao', 'açucar', 'Café', 'Manteiga', 'Mamão', 'Banana', 'Maçã')\n",
        "\n",
        "{'1': (1, 1, 1, 1, 1, 0, 0, 0),\n",
        "\n",
        " '2': (0, 0, 0, 0, 0, 1, 1, 1),\n",
        "\n",
        " '3': (1, 1, 0, 0, 0, 0, 0, 1),\n",
        "\n",
        " '4': (1, 1, 0, 0, 1, 0, 1, 0)}\n",
        "\n",
        "SE Leite ENTÃO Maçã:\n",
        "\n",
        "temos 3 ocorrencias de leite e destas 3 somente 1 ocorreu de ter Maçã, então a Confiança é de 1/3 ou 33%\n",
        "\n",
        "Porem o inverso não é identico por exemplo:\n",
        "\n",
        "SE Maçã ENTÃO Leite:\n",
        "\n",
        "Neste caso temos somente 2 ocorrencias de maça das quais em 1 delas tinhamos leite tambem logo 1/2 ou 50% de confiança\n"
      ],
      "metadata": {
        "id": "yy3q7tN7MzEx"
      }
    },
    {
      "cell_type": "code",
      "source": [],
      "metadata": {
        "id": "7ZVwWipnNrPY"
      },
      "execution_count": null,
      "outputs": []
    }
  ]
}